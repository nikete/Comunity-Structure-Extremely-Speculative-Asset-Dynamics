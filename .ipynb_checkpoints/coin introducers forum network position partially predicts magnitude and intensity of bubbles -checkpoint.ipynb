{
 "cells": [
  {
   "cell_type": "markdown",
   "metadata": {},
   "source": [
    "To Do:\n",
    "\n",
    "- chase down missing points, make list of the coins.\n",
    "- partial dependence graphs: fix overlap\n",
    "- RLS M-estimator\n",
    "- make latex compatible output graphs\n"
   ]
  },
  {
   "cell_type": "code",
   "execution_count": 1,
   "metadata": {
    "collapsed": false
   },
   "outputs": [],
   "source": [
    "import pandas as pd\n",
    "import seaborn as sns\n",
    "import matplotlib.pyplot as plt\n",
    "%matplotlib inline\n",
    "import numpy as np\n",
    "import statsmodels.api as sm\n",
    "import statsmodels.formula.api as smf\n",
    "from statsmodels.formula.api import ols, rlm\n",
    "from statsmodels.iolib.summary2 import summary_col\n",
    "\n",
    "from sklearn.grid_search import GridSearchCV\n",
    "from sklearn.learning_curve import learning_curve\n",
    "from sklearn.kernel_ridge import KernelRidge\n",
    "\n",
    "\n",
    "from mpl_toolkits.mplot3d import Axes3D\n",
    "\n",
    "from sklearn.cross_validation import train_test_split\n",
    "from sklearn.ensemble import GradientBoostingRegressor\n",
    "from sklearn.ensemble.partial_dependence import plot_partial_dependence\n",
    "from sklearn.ensemble.partial_dependence import partial_dependence\n",
    "\n",
    "from sklearn.linear_model import Lasso, LassoCV, ElasticNetCV, ElasticNet\n",
    "\n",
    "from patsy import dmatrices\n",
    "from sklearn_pandas import DataFrameMapper, cross_val_score\n",
    "import sklearn.preprocessing, sklearn.decomposition, sklearn.linear_model, sklearn.pipeline, sklearn.metrics"
   ]
  },
  {
   "cell_type": "code",
   "execution_count": 2,
   "metadata": {
    "collapsed": false
   },
   "outputs": [],
   "source": [
    "l=[\"data/forumAND.csv\",\n",
    "   'data/forumOR.csv']\n",
    "\n",
    "\n",
    "degree_vars = ['user1_degree_total',\n",
    "           'user1_degree_incoming', 'user1_degree_outgoing',]\n",
    "\n",
    "graph_vars=       ['user1_clustering_coefficient',\n",
    "                    'user1_closeness_centrality_unweighted']\n",
    "              #     'user1_betweenness_centrality_unweighted']\n",
    "                   \n",
    "#           'user1_closeness_centrality_incoming_unweighted',\n",
    "#           'user1_closeness_centrality_outgoing_unweighted']\n",
    "\n",
    "satoshi_vars=       ['user1_satoshi_distance',\n",
    "            'user1_satoshi_pagerank_weighted',\n",
    "            'user1_satoshi_distance_inf']\n",
    "\n",
    "weighted_vars=       [ 'user1_pagerank_weighted',\n",
    "                      'user1_closeness_centrality_weighted',\n",
    "                    'user1_betweenness_centrality_weighted',]\n",
    "#           'user1_closeness_centrality_incoming_weighted',\n",
    "#           'user1_closeness_centrality_outgoing_weighted']\n",
    "\n",
    "interacted_technical = ['user1_closeness_centrality_weighted:nontrivial',\n",
    "                        'user1_betweenness_centrality_weighted:nontrivial',\n",
    "                       'user1_clustering_coefficient:nontrivial']\n",
    "\n",
    "technical_vars = ['nontrivial']\n",
    "\n",
    "\n",
    "naive_vars = ['user1_num_posts', 'user1_num_subjects',\n",
    "           'user1_days_since_first_post']\n",
    "\n",
    "\n",
    "\n",
    "\n",
    "independent_vars =  naive_vars + graph_vars + satoshi_vars + technical_vars + degree_vars + weighted_vars\n",
    "dependent_vars = [\"log_volume\",\"log_severity\",\"log_market_num\"]"
   ]
  },
  {
   "cell_type": "code",
   "execution_count": 9,
   "metadata": {
    "collapsed": false
   },
   "outputs": [],
   "source": [
    "def joint_dataset(fname, normalize =True, full=False):\n",
    "    data = pd.read_csv( fname, \n",
    "    index_col='coin').join(pd.read_csv(\n",
    "        'data/nontrivial.csv',index_col='coin')).join(pd.read_csv(\n",
    "        'data/prices.csv',index_col='symbol',skipinitialspace=True))\n",
    "    data['user1_years_since_first_post'] = data.user1_days_since_first_post/365.\n",
    "    data['log_severity']=np.log(data['severity_to_average_after_max_volume_weighted'])\n",
    "    data['log_volume']=np.log(data['total_volume'])\n",
    "    data['log_market_num'] = np.log(np.e+data.market_num)\n",
    "    \n",
    "    data.loc[data.user1_satoshi_distance > 6,'user1_satoshi_distance_inf'] = 1\n",
    "    data.loc[data.user1_satoshi_distance <= 6,'user1_satoshi_distance_inf'] = 0\n",
    "    data.loc[data.user1_satoshi_distance > 6,'user1_satoshi_distance'] = 7 # the infs turn into 7s (highest is 6, there is only one)\n",
    "\n",
    "    #the candidate features we will be using inthe analysis as our indepedent variables\n",
    "\n",
    "\n",
    "    df= data[independent_vars+dependent_vars]\n",
    "\n",
    "    #print data_norm\n",
    "    if full : return data\n",
    "    if normalize:    return (df - df.mean()) / (df.std())\n",
    "    else: return df\n"
   ]
  },
  {
   "cell_type": "code",
   "execution_count": 10,
   "metadata": {
    "collapsed": false,
    "scrolled": false
   },
   "outputs": [],
   "source": [
    "#model_aic = LassoLarsIC(criterion='aic')\n",
    "#model_aic.fit(np.array(X), np.array(y))\n",
    "#print sm.OLS(y,X).fit(cov_type='HC3').summary() \n",
    "\n",
    "def fit_model(target,xvars,data_norm):\n",
    "    formula = target + \" ~ \" + \" + \".join(xvars)\n",
    "    #print formula\n",
    "    y,X = dmatrices(formula ,data_norm,return_type='dataframe' )\n",
    "    X = sklearn.preprocessing.scale(X)\n",
    "    y = sklearn.preprocessing.scale(y[target])\n",
    "    reg_para = [0.0001,0.001, 0.0025,0.005,0.0075, 0.01, 0.025, 0.05, 0.075, 0.1, 0.5, 1, 5, 10, 50, 100]\n",
    "    l1_ratios  =[.1, .5, .7, .9, .95, .99,.999, 1]\n",
    "    lasso_model = ElasticNetCV(cv=5 , alphas=reg_para, selection='random',  l1_ratio=l1_ratios) #LOO CV works better than k fold\n",
    "    lasso_fit = lasso_model.fit(X,y)\n",
    "    #print lasso_fit.alpha_# ,lasso_fit.coef_\n",
    "    selected = [\"1\"]\n",
    "    for i,x in enumerate(lasso_fit.coef_[1:]): #skip the constant\n",
    "        if x != 0.: selected.append(xvars[i])\n",
    "    ols_results =ols(target + \" ~ \" + \" + \".join(selected) ,data_norm).fit_regularized( L1_wt=0.999, alpha=lasso_fit.alpha_)\n",
    "    #ols_results.mse = lasso_fit.mse_path_[l1_ratios.index(lasso_fit.l1_ratio_)]\n",
    "    ols_results.mse =  (np.mean(lasso_fit.mse_path_[l1_ratios.index(lasso_fit.l1_ratio_)]) )\n",
    "    ols_results.alpha = lasso_fit.alphas.index(lasso_fit.alpha_)\n",
    "    ols_results.l1_ratio = lasso_fit.l1_ratio_\n",
    "    return  ols_results\n",
    "#shape = (n_l1_ratio, n_alpha, n_folds)"
   ]
  },
  {
   "cell_type": "markdown",
   "metadata": {},
   "source": []
  },
  {
   "cell_type": "code",
   "execution_count": 11,
   "metadata": {
    "collapsed": false,
    "scrolled": false
   },
   "outputs": [],
   "source": [
    "\n",
    "def make_regression_tables(yvar,datasets):\n",
    "    for f in l:\n",
    "        data_norm = joint_dataset(f)\n",
    "        res = summary_col([fit_model(yvar,naive_vars  + degree_vars,data_norm),\n",
    "                           fit_model(yvar, technical_vars ,data_norm),\n",
    "                           fit_model(yvar,naive_vars  + degree_vars + technical_vars   ,data_norm),\n",
    "                           fit_model(yvar,naive_vars  + degree_vars + technical_vars   + graph_vars,data_norm),\n",
    "                           fit_model(yvar,naive_vars  + degree_vars + technical_vars  + weighted_vars,data_norm),\n",
    "                           fit_model(yvar,naive_vars  + degree_vars + technical_vars  + graph_vars + interacted_technical ,data_norm), \n",
    "                           fit_model(yvar,independent_vars,data_norm)],\n",
    "                          stars=True,float_format='%0.2f',\n",
    "                      model_names=['Activity','Nontrivial','Satoshi','Network','Weighted','Network*Nontrivial','All'],\n",
    "                      info_dict={'N':lambda x: \"{0:d}\".format(int(x.nobs)),\n",
    "                                 'R2':lambda x: \"{:.2f}\".format(x.rsquared),\n",
    "                                 'Adjusted-R2':lambda x: \"{:.2f}\".format(x.rsquared_adj),\n",
    "                                 #'AIC':lambda x: \"{:.2f}\".format(x.aic),\n",
    "                                 'BIC':lambda x: \"{:.0f}\".format(x.bic),\n",
    "                                 'Condition Number':lambda x: \"{:.2f}\".format(x.condition_number),\n",
    "                                 'ElasticNet CV MSE:' :lambda x: \"{:.2f}\".format(x.mse),\n",
    "                                 #'ElasticNet CV  L1 ratio':lambda x: \"{:.2f}\".format( x.l1_ratio),\n",
    "                                 #'ElasticNet CV alpha':lambda x: \"{:.2f}\".format( x.alpha)\n",
    "                                })\n",
    "        \n",
    "        open(\"tables/\"+yvar +\"_models \"+ f[5:-4]+\".tex\",\"w\").write(res.as_latex())\n",
    "        print res\n",
    "\n",
    "\n"
   ]
  },
  {
   "cell_type": "code",
   "execution_count": 12,
   "metadata": {
    "collapsed": false
   },
   "outputs": [
    {
     "data": {
      "text/plain": [
       "<seaborn.axisgrid.JointGrid at 0x10afebc90>"
      ]
     },
     "execution_count": 12,
     "metadata": {},
     "output_type": "execute_result"
    },
    {
     "data": {
      "image/png": "[encoded data removed]",
      "text/plain": [
       "<matplotlib.figure.Figure at 0x10a8278d0>"
      ]
     },
     "metadata": {},
     "output_type": "display_data"
    }
   ],
   "source": [
    "#descriptive graphs\n",
    "data = joint_dataset(l[0], normalize=False)\n",
    "data_norm = joint_dataset(l[0], normalize=True)\n",
    "\n",
    "from scipy.stats import kendalltau\n",
    "\n",
    "sns.set(style=\"white\")\n",
    "\n",
    "sns.jointplot(data.log_volume, data.log_severity, kind=\"hex\", stat_func=kendalltau)#, color=\"#4CB391\")\n"
   ]
  },
  {
   "cell_type": "code",
   "execution_count": 13,
   "metadata": {
    "collapsed": false,
    "scrolled": false
   },
   "outputs": [
    {
     "name": "stdout",
     "output_type": "stream",
     "text": [
      "\n",
      "=====================================================================================================================\n",
      "                                               Activity Nontrivial Satoshi Network Weighted Network*Nontrivial  All  \n",
      "---------------------------------------------------------------------------------------------------------------------\n",
      "Intercept                                      0.00     0.18***    0.13**  0.08    0.13**   0.00               0.00  \n",
      "                                               (0.00)   (0.05)     (0.05)  (0.05)  (0.05)   (0.00)             (0.00)\n",
      "nontrivial                                              0.08       0.03    0.00    0.04     0.00               0.00  \n",
      "                                                        (0.05)     (0.05)  (0.00)  (0.05)   (0.00)             (0.00)\n",
      "user1_closeness_centrality_unweighted                                      0.14***          0.00               0.00  \n",
      "                                                                           (0.05)           (0.00)             (0.00)\n",
      "user1_closeness_centrality_weighted                                                0.18***                     0.00  \n",
      "                                                                                   (0.05)                      (0.00)\n",
      "user1_closeness_centrality_weighted:nontrivial                                              0.00                     \n",
      "                                                                                            (0.00)                   \n",
      "user1_clustering_coefficient                                               0.00             0.00               0.00  \n",
      "                                                                           (0.00)           (0.00)             (0.00)\n",
      "user1_clustering_coefficient:nontrivial                                                     0.00                     \n",
      "                                                                                            (0.00)                   \n",
      "user1_days_since_first_post                                        0.01    0.00    0.03     0.00               0.00  \n",
      "                                                                   (0.05)  (0.00)  (0.05)   (0.00)             (0.00)\n",
      "user1_degree_outgoing                                                      0.00                                      \n",
      "                                                                           (0.00)                                    \n",
      "user1_num_posts                                                            0.00                                      \n",
      "                                                                           (0.00)                                    \n",
      "user1_num_subjects                                                 0.00    0.00    -0.03    0.00               0.00  \n",
      "                                                                   (0.00)  (0.00)  (0.06)   (0.00)             (0.00)\n",
      "R2                                             0.00     0.01       0.00    0.04    0.08     -0.05              -0.05 \n",
      "ElasticNet CV MSE:                             1.01     1.00       1.01    0.99    1.07     1.00               1.05  \n",
      "BIC                                            1072     774        788     798     772      825                819   \n",
      "N                                              376      288        288     288     288      288                288   \n",
      "Adjusted-R2                                    0.00     0.01       -0.01   0.02    0.06     -0.07              -0.07 \n",
      "Condition Number                               1.00     1.00       1.56    4.78    1.63     2.23               234.96\n",
      "=====================================================================================================================\n",
      "Standard errors in parentheses.\n",
      "* p<.1, ** p<.05, ***p<.01\n",
      "\n",
      "======================================================================================================================\n",
      "                                               Activity Nontrivial Satoshi Network Weighted Network*Nontrivial   All  \n",
      "----------------------------------------------------------------------------------------------------------------------\n",
      "Intercept                                      0.00     0.18***    0.18*** 0.19*** 0.19***  0.19***            0.16***\n",
      "                                               (0.00)   (0.05)     (0.05)  (0.05)  (0.05)   (0.05)             (0.05) \n",
      "nontrivial                                              0.05       0.05    0.07    0.07     0.05               0.05   \n",
      "                                                        (0.05)     (0.05)  (0.05)  (0.05)   (0.05)             (0.05) \n",
      "user1_closeness_centrality_unweighted                                      0.16***          0.14***            0.00   \n",
      "                                                                           (0.05)           (0.05)             (0.00) \n",
      "user1_closeness_centrality_weighted                                                0.14***                     0.13***\n",
      "                                                                                   (0.04)                      (0.04) \n",
      "user1_closeness_centrality_weighted:nontrivial                                              0.09**                    \n",
      "                                                                                            (0.04)                    \n",
      "user1_clustering_coefficient                                               -0.03            -0.02              0.00   \n",
      "                                                                           (0.05)           (0.05)             (0.00) \n",
      "user1_days_since_first_post                                        0.00    0.00    0.00     0.00               0.00   \n",
      "                                                                   (0.00)  (0.00)  (0.00)   (0.05)             (0.00) \n",
      "user1_degree_outgoing                                                      0.00    0.00     0.00                      \n",
      "                                                                           (0.00)  (0.00)   (0.00)                    \n",
      "user1_pagerank_weighted                                                                                        0.00   \n",
      "                                                                                                               (0.00) \n",
      "R2                                             -0.00    0.01       0.01    0.06    0.05     0.08               0.04   \n",
      "ElasticNet CV MSE:                             1.03     1.00       1.01    0.98    0.99     0.98               0.99   \n",
      "BIC                                            1575     997        1003    999     996      998                1011   \n",
      "N                                              553      372        372     372     372      372                372    \n",
      "Adjusted-R2                                    -0.00    0.00       -0.00   0.05    0.04     0.06               0.03   \n",
      "Condition Number                               1.00     1.00       1.11    2.50    2.12     2.52               182.92 \n",
      "======================================================================================================================\n",
      "Standard errors in parentheses.\n",
      "* p<.1, ** p<.05, ***p<.01\n",
      "\n",
      "======================================================================================================================\n",
      "                                               Activity Nontrivial Satoshi Network Weighted Network*Nontrivial   All  \n",
      "----------------------------------------------------------------------------------------------------------------------\n",
      "Intercept                                      0.00     0.00       0.00    0.00    0.00     0.00               0.05   \n",
      "                                               (0.00)   (0.00)     (0.00)  (0.00)  (0.00)   (0.00)             (0.06) \n",
      "nontrivial                                                                         0.00                        -0.01  \n",
      "                                                                                   (0.00)                      (0.06) \n",
      "user1_betweenness_centrality_weighted                                                                          0.00   \n",
      "                                                                                                               (0.00) \n",
      "user1_closeness_centrality_unweighted                                      0.00             0.00               0.13** \n",
      "                                                                           (0.00)           (0.00)             (0.07) \n",
      "user1_closeness_centrality_weighted                                                0.26***                     0.00   \n",
      "                                                                                   (0.06)                      (0.00) \n",
      "user1_closeness_centrality_weighted:nontrivial                                              0.00                      \n",
      "                                                                                            (0.00)                    \n",
      "user1_clustering_coefficient                                               0.00             0.00               0.29***\n",
      "                                                                           (0.00)           (0.00)             (0.06) \n",
      "user1_clustering_coefficient:nontrivial                                                     0.00                      \n",
      "                                                                                            (0.00)                    \n",
      "user1_days_since_first_post                                                0.00    0.00     0.00               -0.05  \n",
      "                                                                           (0.00)  (0.00)   (0.00)             (0.06) \n",
      "user1_degree_incoming                                                      0.00    0.00     0.00               0.00   \n",
      "                                                                           (0.00)  (0.00)   (0.00)             (0.00) \n",
      "user1_degree_outgoing                                                                                          0.00   \n",
      "                                                                                                               (0.00) \n",
      "user1_num_posts                                                                    0.00                        -0.10  \n",
      "                                                                                   (0.00)                      (0.07) \n",
      "user1_num_subjects                                                                                             0.00   \n",
      "                                                                                                               (0.00) \n",
      "user1_pagerank_weighted                                                            0.16***                     0.31***\n",
      "                                                                                   (0.05)                      (0.06) \n",
      "user1_satoshi_distance                                                                                         -0.00  \n",
      "                                                                                                               (0.06) \n",
      "user1_satoshi_distance_inf                                                                                     0.00   \n",
      "                                                                                                               (0.00) \n",
      "user1_satoshi_pagerank_weighted                                                                                0.00   \n",
      "                                                                                                               (0.00) \n",
      "R2                                             0.00     0.00       0.00    0.00    0.19     -0.01              0.28   \n",
      "ElasticNet CV MSE:                             1.01     1.01       1.02    0.94    0.92     1.04               0.91   \n",
      "BIC                                            1072     1072       1072    1096    834      897                844    \n",
      "N                                              376      376        376     376     288      288                288    \n",
      "Adjusted-R2                                    0.00     0.00       0.00    -0.01   0.17     -0.03              0.24   \n",
      "Condition Number                               1.00     1.00       1.00    1.85    3.48     2.32               358.77 \n",
      "======================================================================================================================\n",
      "Standard errors in parentheses.\n",
      "* p<.1, ** p<.05, ***p<.01\n",
      "\n",
      "=========================================================================================================================\n",
      "                                                 Activity Nontrivial Satoshi Network Weighted Network*Nontrivial   All   \n",
      "-------------------------------------------------------------------------------------------------------------------------\n",
      "Intercept                                        0.00     0.00       0.00    0.02    0.00     0.00               0.05    \n",
      "                                                 (0.00)   (0.00)     (0.00)  (0.05)  (0.00)   (0.00)             (0.05)  \n",
      "nontrivial                                                                   0.00    0.00     0.00               -0.01   \n",
      "                                                                             (0.00)  (0.00)   (0.00)             (0.05)  \n",
      "user1_betweenness_centrality_weighted                                                0.00                        -0.02   \n",
      "                                                                                     (0.00)                      (0.31)  \n",
      "user1_betweenness_centrality_weighted:nontrivial                                              0.00                       \n",
      "                                                                                              (0.00)                     \n",
      "user1_closeness_centrality_unweighted                                        0.16***          0.15***            1.76    \n",
      "                                                                             (0.06)           (0.05)             (4.03)  \n",
      "user1_closeness_centrality_weighted                                                  0.10*                       -1.68   \n",
      "                                                                                     (0.05)                      (4.01)  \n",
      "user1_closeness_centrality_weighted:nontrivial                                                0.00                       \n",
      "                                                                                              (0.00)                     \n",
      "user1_clustering_coefficient                                                 0.02             0.00               0.08    \n",
      "                                                                             (0.06)           (0.00)             (0.06)  \n",
      "user1_clustering_coefficient:nontrivial                                                       0.00                       \n",
      "                                                                                              (0.00)                     \n",
      "user1_days_since_first_post                      0.00                0.00    -0.01   0.00     0.00               -0.00   \n",
      "                                                 (0.00)              (0.00)  (0.06)  (0.00)   (0.00)             (0.07)  \n",
      "user1_degree_incoming                            0.03                0.03    0.15**  0.00     0.11*              -0.07   \n",
      "                                                 (0.04)              (0.04)  (0.06)  (0.00)   (0.06)             (0.11)  \n",
      "user1_degree_outgoing                                                0.00    0.00                                0.04    \n",
      "                                                                     (0.00)  (0.00)                              (0.11)  \n",
      "user1_degree_total                               0.00                0.00    0.00    0.00     0.00               -0.09   \n",
      "                                                 (0.00)              (0.00)  (0.00)  (0.00)   (0.00)             (0.09)  \n",
      "user1_num_posts                                  0.00                0.00    0.00    0.00     0.00               -0.17   \n",
      "                                                 (0.00)              (0.00)  (0.00)  (0.00)   (0.00)             (0.12)  \n",
      "user1_num_subjects                                                           0.00    0.00     0.00               0.00    \n",
      "                                                                             (0.00)  (0.00)   (0.00)             (0.10)  \n",
      "user1_pagerank_weighted                                                              0.18***                     0.90*** \n",
      "                                                                                     (0.05)                      (0.21)  \n",
      "user1_satoshi_distance                                                                                           -0.36***\n",
      "                                                                                                                 (0.12)  \n",
      "user1_satoshi_distance_inf                                                                                       0.33*** \n",
      "                                                                                                                 (0.10)  \n",
      "user1_satoshi_pagerank_weighted                                                                                  -0.63***\n",
      "                                                                                                                 (0.18)  \n",
      "R2                                               0.01     0.00       0.01    0.09    0.10     0.07               0.21    \n",
      "ElasticNet CV MSE:                               1.00     1.01       0.99    0.95    0.94     0.95               0.91    \n",
      "BIC                                              1594     1572       1594    1110    1111     1133               1094    \n",
      "N                                                552      552        552     372     372      372                372     \n",
      "Adjusted-R2                                      -0.00    0.00       -0.00   0.07    0.08     0.05               0.17    \n",
      "Condition Number                                 12.86    1.00       nan     nan     18.18    18.50              nan     \n",
      "=========================================================================================================================\n",
      "Standard errors in parentheses.\n",
      "* p<.1, ** p<.05, ***p<.01\n"
     ]
    }
   ],
   "source": [
    "#\"data/directed_unlimited/unmodified_symbol_and_name_in_subject_with_ANN_first_thread_post_introducers_metrics.csv\"]\n",
    "#  \"data/directed_unlimited/unmodified_symbol_and_name_in_subject_with_[ANN]_first_thread_post_introducers_metrics.csv\"]\n",
    "# \"data/directed_unlimited/unmodified_symbol_or_name_in_subject_with_ANN_first_thread_post_introducers_metrics.csv\"]\n",
    "\n",
    "make_regression_tables(\"log_volume\",l)\n",
    "make_regression_tables(\"log_severity\",l)\n",
    "\n"
   ]
  },
  {
   "cell_type": "code",
   "execution_count": 8,
   "metadata": {
    "collapsed": false
   },
   "outputs": [
    {
     "name": "stderr",
     "output_type": "stream",
     "text": [
      "/Users/nikete/anaconda/lib/python2.7/site-packages/matplotlib/collections.py:590: FutureWarning: elementwise comparison failed; returning scalar instead, but in the future will perform elementwise comparison\n",
      "  if self._edgecolors == str('face'):\n"
     ]
    },
    {
     "data": {
      "text/plain": [
       "<seaborn.axisgrid.FacetGrid at 0x10af51650>"
      ]
     },
     "execution_count": 8,
     "metadata": {},
     "output_type": "execute_result"
    },
    {
     "data": {
      "image/png": "[encoded data removed]",
      "text/plain": [
       "<matplotlib.figure.Figure at 0x109f1ddd0>"
      ]
     },
     "metadata": {},
     "output_type": "display_data"
    },
    {
     "data": {
      "image/png": "[encoded data removed]",
      "text/plain": [
       "<matplotlib.figure.Figure at 0x109f1dc50>"
      ]
     },
     "metadata": {},
     "output_type": "display_data"
    },
    {
     "data": {
      "image/png": "[encoded data removed]",
      "text/plain": [
       "<matplotlib.figure.Figure at 0x10a9e5310>"
      ]
     },
     "metadata": {},
     "output_type": "display_data"
    }
   ],
   "source": [
    "# (data[naive_vars  + degree_vars + technical_vars + satoshi_vars + weighted_vars])\n",
    "sns.lmplot('user1_closeness_centrality_unweighted','log_severity',hue='nontrivial',markers=[\"o\", \"x\"], data=data_norm)\n",
    "sns.lmplot('user1_closeness_centrality_weighted','log_volume',hue='nontrivial',markers=[\"o\", \"x\"], data=data_norm)\n",
    "sns.lmplot('user1_closeness_centrality_weighted','log_severity',hue='nontrivial',markers=[\"o\", \"x\"], data=data_norm)\n",
    "\n",
    "#sns.lmplot('user1_degree_outgoing','log_volume', data_norm)\n",
    "\n",
    "#they are identical correlation 1 ish('user1_closeness_centrality_outgoing_unweighted','user1_closeness_centrality_outgoing_weighted',data)"
   ]
  },
  {
   "cell_type": "code",
   "execution_count": null,
   "metadata": {
    "collapsed": false
   },
   "outputs": [],
   "source": [
    "sns.interactplot(\"log_volume\", \"log_severity\", \"user1_closeness_centrality_unweighted\", data_norm )"
   ]
  },
  {
   "cell_type": "code",
   "execution_count": null,
   "metadata": {
    "collapsed": false
   },
   "outputs": [],
   "source": [
    "g = sns.FacetGrid(data_norm, col=\"nontrivial\")\n",
    "g.map(sns.interactplot,\"log_volume\", \"log_severity\",'user1_closeness_centrality_unweighted');"
   ]
  },
  {
   "cell_type": "code",
   "execution_count": null,
   "metadata": {
    "collapsed": false
   },
   "outputs": [],
   "source": [
    "sns.interactplot(\"user1_clustering_coefficient\", \"user1_closeness_centrality_weighted\", \"log_severity\", data_norm )\n"
   ]
  },
  {
   "cell_type": "code",
   "execution_count": null,
   "metadata": {
    "collapsed": false
   },
   "outputs": [],
   "source": [
    "sns.interactplot(\"user1_clustering_coefficient\", \"user1_closeness_centrality_weighted\", \"log_volume\", data_norm )"
   ]
  },
  {
   "cell_type": "code",
   "execution_count": null,
   "metadata": {
    "collapsed": false
   },
   "outputs": [],
   "source": [
    "\n",
    "#\"log_volume ~ user1_num_posts +user1_days_since_first_post + technical +  user1_closeness_centrality_unweighted + user1_clustering_coefficient\"\n",
    "y,X = dmatrices( \"log_volume\" +  \" ~ \" + \" + \".join(naive_vars  + degree_vars + technical_vars + satoshi_vars + weighted_vars) ,data_norm,return_type='dataframe' )\n",
    "#y,X = dmatrices(\"log_volume\" +  \" ~ \" + \" + \".join(naive_vars  + degree_vars + graph_vars),data,return_type='dataframe')\n",
    "names = X.columns\n",
    "X = sklearn.preprocessing.scale(X)\n",
    "y = sklearn.preprocessing.scale(y['log_volume'])\n",
    "offset = int(X.shape[0] * 0.80)\n",
    "X_train, y_train = X[:offset], y[:offset]\n",
    "X_test, y_test = X[offset:], y[offset:]\n",
    "\n",
    "# split 80/20 train-test\n",
    "\n",
    "print('_' * 80)\n",
    "print(\"Training GBRT...\")\n",
    "clf_cv =  GridSearchCV(GradientBoostingRegressor(n_estimators=10, max_depth=6,\n",
    "                                learning_rate=0.01, loss='ls',\n",
    "                                random_state=1),\n",
    "                  param_grid={\"learning_rate\": np.logspace(-2, 2, 5),\n",
    "                             \"n_estimators\":[5,10,25,50,100], \"max_depth\":[2,4,6,8]})\n",
    "\n",
    "\n",
    "clf_cv.fit(X_train, y_train)\n",
    "\n",
    "\n",
    "clf = clf_cv.best_estimator_\n",
    "\n",
    "print clf_cv.best_score_\n",
    "\n",
    "print clf.score(X_test, y_test)\n",
    "\n",
    "\n",
    "\n",
    "features = [ 2, 3, 4,5, 7 ,11,16] # REVISE THIS WITH NEW COINS AVAILABLE\n",
    "fig, axs = plot_partial_dependence(clf, X_train, features, feature_names=names,\n",
    "                                   n_jobs=3, grid_resolution=50)\n",
    "fig.suptitle('Partial dependence of volume on network features')\n",
    "plt.subplots_adjust()  # tight_layout causes overlap with suptitle top=1.2\n",
    "fig = plt.figure()\n",
    "\n",
    "target_feature = (4, 5)\n",
    "pdp, (x_axis, y_axis) = partial_dependence(clf, target_feature,\n",
    "                                           X=X_train, grid_resolution=50)\n",
    "XX, YY = np.meshgrid(x_axis, y_axis)\n",
    "Z = pdp.T.reshape(XX.shape).T\n",
    "ax = Axes3D(fig)\n",
    "surf = ax.plot_surface(XX, YY, Z, rstride=1, cstride=1, cmap=plt.cm.BuPu)\n",
    "ax.set_xlabel(names[target_feature[0]])\n",
    "ax.set_ylabel(names[target_feature[1]])\n",
    "ax.set_zlabel('Partial dependence')\n",
    "#  pretty init view\n",
    "ax.view_init(elev=22, azim=122)\n",
    "plt.colorbar(surf)\n",
    "plt.suptitle('Partial dependence of volume')\n",
    "plt.subplots_adjust(top=0.9)\n",
    "\n",
    "\n",
    "\n"
   ]
  },
  {
   "cell_type": "code",
   "execution_count": null,
   "metadata": {
    "collapsed": false
   },
   "outputs": [],
   "source": [
    "make_regression_tables(\"log_severity\",l)\n"
   ]
  },
  {
   "cell_type": "code",
   "execution_count": null,
   "metadata": {
    "collapsed": false
   },
   "outputs": [],
   "source": [
    "\n",
    "data_norm =  joint_dataset(f)\n",
    "y,X = dmatrices(\"log_severity ~  technical +  user1_closeness_centrality_unweighted + user1_clustering_coefficient\"  ,data_norm,return_type='dataframe' )\n",
    "names = X.columns\n",
    "X = sklearn.preprocessing.scale(X)\n",
    "y = sklearn.preprocessing.scale(y['log_severity'])\n",
    "offset = int(X.shape[0] * 0.80)\n",
    "X_train, y_train = X[:offset], y[:offset]\n",
    "X_test, y_test = X[offset:], y[offset:]\n",
    "\n",
    "# split 80/20 train-test\n",
    "\n",
    "print('_' * 80)\n",
    "print(\"Training GBRT...\")\n",
    "clf_cv =  GridSearchCV(GradientBoostingRegressor(n_estimators=10, max_depth=6,\n",
    "                                learning_rate=0.01, loss='ls',\n",
    "                                random_state=1),\n",
    "                  param_grid={\"learning_rate\": np.logspace(-2, 2, 5),\n",
    "                             \"n_estimators\":[5,10,25,50,100], \"max_depth\":[2,4,6,8]})\n",
    "\n",
    "\n",
    "clf_cv.fit(X_train, y_train)\n",
    "\n",
    "\n",
    "clf = clf_cv.best_estimator_\n",
    "\n",
    "print clf_cv.best_score_\n",
    "\n",
    "print clf.score(X_test, y_test)\n",
    "\n",
    "\n",
    "#print('_' * 80)\n",
    "#print('Convenience plot with ``partial_dependence_plots``')\n",
    "#print\n",
    "\n",
    "features = [1, 2, 3 ]\n",
    "fig, axs = plot_partial_dependence(clf, X_train, features, feature_names=names,\n",
    "                                   n_jobs=3, grid_resolution=50)\n",
    "fig.suptitle('Partial dependence of severity on network features')\n",
    "plt.subplots_adjust(top=0.9)  # tight_layout causes overlap with suptitle\n",
    "\n",
    "print('_' * 80)\n",
    "print('Custom 3d plot via ``partial_dependence``')\n",
    "print\n",
    "fig = plt.figure()\n",
    "\n",
    "target_feature = (2, 3)\n",
    "pdp, (x_axis, y_axis) = partial_dependence(clf, target_feature,\n",
    "                                           X=X_train, grid_resolution=50)\n",
    "XX, YY = np.meshgrid(x_axis, y_axis)\n",
    "Z = pdp.T.reshape(XX.shape).T\n",
    "ax = Axes3D(fig)\n",
    "surf = ax.plot_surface(XX, YY, Z, rstride=1, cstride=1, cmap=plt.cm.BuPu)\n",
    "ax.set_xlabel(names[target_feature[0]])\n",
    "ax.set_ylabel(names[target_feature[1]])\n",
    "ax.set_zlabel('Partial dependence')\n",
    "#  pretty init view\n",
    "ax.view_init(elev=22, azim=-122)\n",
    "plt.colorbar(surf)\n",
    "plt.suptitle('Partial dependence of severity')\n",
    "plt.subplots_adjust(top=0.9)\n",
    "\n",
    "plt.show()"
   ]
  },
  {
   "cell_type": "code",
   "execution_count": null,
   "metadata": {
    "collapsed": false
   },
   "outputs": [],
   "source": [
    "make_regression_tables(\"log_market_num\",l)"
   ]
  },
  {
   "cell_type": "markdown",
   "metadata": {},
   "source": []
  },
  {
   "cell_type": "code",
   "execution_count": null,
   "metadata": {
    "collapsed": false,
    "scrolled": false
   },
   "outputs": [],
   "source": [
    "\n",
    "\n",
    "y,X = dmatrices(\"log_market_num ~  technical  + user1_closeness_centrality_outgoing_unweighted + user1_clustering_coefficient + user1_degree_incoming  \"  ,data,return_type='dataframe' )\n",
    "names = X.columns\n",
    "X = sklearn.preprocessing.scale(X)\n",
    "y = sklearn.preprocessing.scale(y['log_market_num'])\n",
    "offset = int(X.shape[0] * 0.8)\n",
    "X_train, y_train = X[:offset], y[:offset]\n",
    "X_test, y_test = X[offset:], y[offset:]\n",
    "\n",
    "# split 80/20 train-test\n",
    "\n",
    "print('_' * 80)\n",
    "print(\"Training GBRT...\")\n",
    "clf = GradientBoostingRegressor(n_estimators=10, max_depth=6,\n",
    "                                learning_rate=0.01, loss='ls',\n",
    "                                random_state=1)\n",
    "clf.fit(X_train, y_train)\n",
    "print(\"done.\")\n",
    "\n",
    "print('_' * 80)\n",
    "print('Convenience plot with ``partial_dependence_plots``')\n",
    "print\n",
    "\n",
    "features = [1,2,3]\n",
    "fig, axs = plot_partial_dependence(clf, X_train, features, feature_names=names,\n",
    "                                   n_jobs=3, grid_resolution=50)\n",
    "fig.suptitle('Partial dependence of market num on network features')\n",
    "plt.subplots_adjust(top=0.9)  # tight_layout causes overlap with suptitle\n",
    "\n",
    "print('_' * 80)\n",
    "print('Custom 3d plot via ``partial_dependence``')\n",
    "print\n",
    "fig = plt.figure()\n",
    "\n",
    "target_feature = (3, 2)\n",
    "pdp, (x_axis, y_axis) = partial_dependence(clf, target_feature,\n",
    "                                           X=X_train, grid_resolution=50)\n",
    "XX, YY = np.meshgrid(x_axis, y_axis)\n",
    "Z = pdp.T.reshape(XX.shape).T\n",
    "ax = Axes3D(fig)\n",
    "surf = ax.plot_surface(XX, YY, Z, rstride=1, cstride=1, cmap=plt.cm.BuPu)\n",
    "ax.set_xlabel(names[target_feature[0]])\n",
    "ax.set_ylabel(names[target_feature[1]])\n",
    "ax.set_zlabel('Partial dependence')\n",
    "#  pretty init view\n",
    "ax.view_init(elev=22, azim=-122)\n",
    "plt.colorbar(surf)\n",
    "plt.suptitle('Partial dependence of market num')\n",
    "plt.subplots_adjust(top=0.9)\n",
    "\n",
    "plt.show()"
   ]
  },
  {
   "cell_type": "code",
   "execution_count": null,
   "metadata": {
    "collapsed": false
   },
   "outputs": [],
   "source": [
    "sns.lmplot('user1_closeness_centrality_unweighted','log_volume',data)#,hue='technical')"
   ]
  },
  {
   "cell_type": "code",
   "execution_count": null,
   "metadata": {
    "collapsed": false
   },
   "outputs": [],
   "source": [
    "sns.lmplot('user1_closeness_centrality_unweighted','log_volume',data_norm, hue='technical')"
   ]
  },
  {
   "cell_type": "code",
   "execution_count": null,
   "metadata": {
    "collapsed": false
   },
   "outputs": [],
   "source": [
    "sns.lmplot('user1_years_since_first_post','user1_num_posts',data,robust=True)"
   ]
  },
  {
   "cell_type": "code",
   "execution_count": null,
   "metadata": {
    "collapsed": false
   },
   "outputs": [],
   "source": []
  },
  {
   "cell_type": "code",
   "execution_count": null,
   "metadata": {
    "collapsed": false
   },
   "outputs": [],
   "source": [
    "sns.lmplot(\"log_severity\", \"log_volume\",data,hue='type')"
   ]
  },
  {
   "cell_type": "code",
   "execution_count": null,
   "metadata": {
    "collapsed": false
   },
   "outputs": [],
   "source": [
    "sns.lmplot(\"log_severity_to_last\", \"log_total_volume\",data,hue='type', robust=True)"
   ]
  },
  {
   "cell_type": "code",
   "execution_count": null,
   "metadata": {
    "collapsed": false
   },
   "outputs": [],
   "source": [
    "sns.lmplot(\"log_severity_to_last\", \"log_total_volume\",data,hue='type', lowess=True)"
   ]
  },
  {
   "cell_type": "code",
   "execution_count": null,
   "metadata": {
    "collapsed": false
   },
   "outputs": [],
   "source": [
    "data.finite_satoshi_distance.describe()"
   ]
  },
  {
   "cell_type": "code",
   "execution_count": null,
   "metadata": {
    "collapsed": false
   },
   "outputs": [],
   "source": []
  },
  {
   "cell_type": "code",
   "execution_count": null,
   "metadata": {
    "collapsed": false
   },
   "outputs": [],
   "source": [
    "from sklearn import cross_validation, linear_model\n",
    "import matplotlib.pyplot as plt\n",
    "y,X = dmatrices(\"log_severity ~ 0+  \" + independent_vars ,data,return_type='dataframe' )\n",
    "X = sklearn.preprocessing.scale(X)\n",
    "y = sklearn.preprocessing.scale(y['log_severity'])\n",
    "\n",
    "lasso = linear_model.Lasso()\n",
    "alphas = np.logspace(-4, -.5, 30)\n",
    "\n",
    "scores = list()\n",
    "scores_std = list()\n",
    "\n",
    "for alpha in alphas:\n",
    "    lasso.alpha = alpha\n",
    "    this_scores = cross_validation.cross_val_score(lasso, X, y, n_jobs=1)\n",
    "    scores.append(np.mean(this_scores))\n",
    "    scores_std.append(np.std(this_scores))\n",
    "\n",
    "plt.figure(figsize=(4, 3))\n",
    "plt.semilogx(alphas, scores)\n",
    "# plot error lines showing +/- std. errors of the scores\n",
    "plt.semilogx(alphas, np.array(scores) + np.array(scores_std) / np.sqrt(len(X)),\n",
    "             'b--')\n",
    "plt.semilogx(alphas, np.array(scores) - np.array(scores_std) / np.sqrt(len(X)),\n",
    "             'b--')\n",
    "plt.ylabel('CV score')\n",
    "plt.xlabel('alpha')\n",
    "plt.axhline(np.max(scores), linestyle='--', color='.5')\n",
    "\n",
    "\n",
    "lasso_cv = linear_model.LassoCV(alphas=alphas)\n",
    "k_fold = cross_validation.KFold(len(X), 5)\n",
    "scores=[]\n",
    "for k, (train, test) in enumerate(k_fold):\n",
    "    lasso_cv.fit(X[train], y[train])\n",
    "    s=lasso_cv.score(X[test], y[test])\n",
    "    scores.append(s)\n",
    "print \"Average out of sample score on cross validation %f\"% np.average(scores)\n"
   ]
  },
  {
   "cell_type": "code",
   "execution_count": null,
   "metadata": {
    "collapsed": false
   },
   "outputs": [],
   "source": [
    "from sklearn import cross_validation, linear_model\n",
    "import matplotlib.pyplot as plt\n",
    "y,X = dmatrices(\"log_volume ~ 0+  \" + independent_vars ,data,return_type='dataframe' )\n",
    "X = sklearn.preprocessing.scale(X)\n",
    "y = sklearn.preprocessing.scale(y['log_volume'])\n",
    "\n",
    "lasso = linear_model.Lasso()\n",
    "alphas = np.logspace(-4, -.5, 30)\n",
    "\n",
    "scores = list()\n",
    "scores_std = list()\n",
    "\n",
    "for alpha in alphas:\n",
    "    lasso.alpha = alpha\n",
    "    this_scores = cross_validation.cross_val_score(lasso, X, y, n_jobs=1)\n",
    "    scores.append(np.mean(this_scores))\n",
    "    scores_std.append(np.std(this_scores))\n",
    "\n",
    "plt.figure(figsize=(4, 3))\n",
    "plt.semilogx(alphas, scores)\n",
    "# plot error lines showing +/- std. errors of the scores\n",
    "plt.semilogx(alphas, np.array(scores) + np.array(scores_std) / np.sqrt(len(X)),\n",
    "             'b--')\n",
    "plt.semilogx(alphas, np.array(scores) - np.array(scores_std) / np.sqrt(len(X)),\n",
    "             'b--')\n",
    "plt.ylabel('CV score')\n",
    "plt.xlabel('alpha')\n",
    "plt.axhline(np.max(scores), linestyle='--', color='.5')\n",
    "\n",
    "\n",
    "lasso_cv = linear_model.LassoCV(alphas=alphas)\n",
    "k_fold = cross_validation.KFold(len(X), 5)\n",
    "scores=[]\n",
    "for k, (train, test) in enumerate(k_fold):\n",
    "    lasso_cv.fit(X[train], y[train])\n",
    "    s=lasso_cv.score(X[test], y[test])\n",
    "    scores.append(s)\n",
    "print \"Average out of sample score on cross validation %f\"% np.average(scores)\n"
   ]
  },
  {
   "cell_type": "code",
   "execution_count": null,
   "metadata": {
    "collapsed": false
   },
   "outputs": [],
   "source": [
    "from sklearn.grid_search import  RandomizedSearchCV\n",
    "from sklearn.ensemble import RandomForestRegressor\n",
    "\n",
    "# Utility function to report best scores\n",
    "def report(grid_scores, n_top=3):\n",
    "    top_scores = sorted(grid_scores, key=itemgetter(1), reverse=True)[:n_top]\n",
    "    for i, score in enumerate(top_scores):\n",
    "        print(\"Model with rank: {0}\".format(i + 1))\n",
    "        print(\"Mean validation score: {0:.3f} (std: {1:.3f})\".format(\n",
    "              score.mean_validation_score,\n",
    "              np.std(score.cv_validation_scores)))\n",
    "        print(\"Parameters: {0}\".format(score.parameters))\n",
    "        print(\"\")\n",
    "        \n",
    "from time import time\n",
    "from operator import itemgetter\n",
    "from scipy.stats import randint as sp_randint\n",
    "\n",
    "clf = RandomForestRegressor(n_estimators=20)\n",
    "y,X = dmatrices(\"log_volume ~ 0+  \" + independent_vars ,data,return_type='dataframe' )\n",
    "X = sklearn.preprocessing.scale(X)\n",
    "y = sklearn.preprocessing.scale(y['log_volume'])\n",
    "\n",
    "\n",
    "\n",
    "# specify parameters and distributions to sample from\n",
    "param_dist = {\"max_depth\": [2, None],\n",
    "              \"max_features\": sp_randint(1, len(X[1])),\n",
    "              \"min_samples_split\": sp_randint(1, len(X[1])),\n",
    "              \"min_samples_leaf\": sp_randint(1, len(independent_vars)),\n",
    "              \"bootstrap\": [True, False]}\n",
    "\n",
    "# run randomized search\n",
    "n_iter_search = 20\n",
    "random_search = RandomizedSearchCV(clf, param_distributions=param_dist,\n",
    "                                   n_iter=n_iter_search)\n",
    "\n",
    "start = time()\n",
    "random_search.fit(X, y)\n",
    "print(\"RandomizedSearchCV took %.2f seconds for %d candidates\"\n",
    "      \" parameter settings.\" % ((time() - start), n_iter_search))\n",
    "report(random_search.grid_scores_)"
   ]
  },
  {
   "cell_type": "code",
   "execution_count": null,
   "metadata": {
    "collapsed": false
   },
   "outputs": [],
   "source": [
    "from sklearn.grid_search import  RandomizedSearchCV\n",
    "from sklearn.ensemble import RandomForestRegressor\n",
    "\n",
    "# Utility function to report best scores\n",
    "def report(grid_scores, n_top=3):\n",
    "    top_scores = sorted(grid_scores, key=itemgetter(1), reverse=True)[:n_top]\n",
    "    for i, score in enumerate(top_scores):\n",
    "        print(\"Model with rank: {0}\".format(i + 1))\n",
    "        print(\"Mean validation score: {0:.3f} (std: {1:.3f})\".format(\n",
    "              score.mean_validation_score,\n",
    "              np.std(score.cv_validation_scores)))\n",
    "        print(\"Parameters: {0}\".format(score.parameters))\n",
    "        print(\"\")\n",
    "        \n",
    "from time import time\n",
    "from operator import itemgetter\n",
    "from scipy.stats import randint as sp_randint\n",
    "\n",
    "clf = RandomForestRegressor(n_estimators=20)\n",
    "y,X = dmatrices(\"log_severity ~ 0+  \" + independent_vars ,data,return_type='dataframe' )\n",
    "X = sklearn.preprocessing.scale(X)\n",
    "y = sklearn.preprocessing.scale(y['log_severity'])\n",
    "\n",
    "\n",
    "\n",
    "# specify parameters and distributions to sample from\n",
    "param_dist = {\"max_depth\": [2, None],\n",
    "              \"max_features\": sp_randint(1, len(X[1])),\n",
    "              \"min_samples_split\": sp_randint(1, len(X[1])),\n",
    "              \"min_samples_leaf\": sp_randint(1, len(independent_vars)),\n",
    "              \"bootstrap\": [True, False]}\n",
    "\n",
    "# run randomized search\n",
    "n_iter_search = 20\n",
    "random_search = RandomizedSearchCV(clf, param_distributions=param_dist,\n",
    "                                   n_iter=n_iter_search)\n",
    "\n",
    "start = time()\n",
    "random_search.fit(X, y)\n",
    "print(\"RandomizedSearchCV took %.2f seconds for %d candidates\"\n",
    "      \" parameter settings.\" % ((time() - start), n_iter_search))\n",
    "report(random_search.grid_scores_)"
   ]
  },
  {
   "cell_type": "code",
   "execution_count": null,
   "metadata": {
    "collapsed": false
   },
   "outputs": [],
   "source": [
    "\n",
    "\n",
    "\n",
    "\n",
    "from sklearn import ensemble\n",
    "from sklearn.utils import shuffle\n",
    "from sklearn.metrics import mean_squared_error\n",
    "import matplotlib.pyplot as plt\n",
    "\n",
    "###############################################################################\n",
    "y,X = dmatrices(\"log_severity ~ 0+  \" + independent_vars ,data,return_type='dataframe' )\n",
    "feature_names = X.columns\n",
    "X = sklearn.preprocessing.scale(X)\n",
    "y = sklearn.preprocessing.scale(y['log_severity'])\n",
    "offset = int(X.shape[0] * 0.9)\n",
    "X_train, y_train = X[:offset], y[:offset]\n",
    "X_test, y_test = X[offset:], y[offset:]\n",
    "\n",
    "###############################################################################\n",
    "# Fit regression model\n",
    "params = {'n_estimators': 1000, 'max_depth': 5, 'min_samples_split': 1,\n",
    "          'learning_rate': 0.001, 'loss': 'ls'}\n",
    "clf = ensemble.GradientBoostingRegressor(**params)\n",
    "\n",
    "clf.fit(X_train, y_train)\n",
    "mse = mean_squared_error(y_test, clf.predict(X_test))\n",
    "print(\"MSE: %.4f\" % mse)\n",
    "\n",
    "\n",
    "# this may take some minutes\n",
    "#gs_cv = GridSearchCV(ensemble.GradientBoostingRegressor, param_grid, n_jobs=4).fit(X_train, y_train)\n",
    "\n",
    "# best hyperparameter setting\n",
    "#print gs_cv.best_params_\n",
    "\n",
    "\n",
    "###############################################################################\n",
    "# Plot training deviance\n",
    "\n",
    "# compute test set deviance\n",
    "test_score = np.zeros((params['n_estimators'],), dtype=np.float64)\n",
    "\n",
    "for i, y_pred in enumerate(clf.staged_decision_function(X_test)):\n",
    "    test_score[i] = clf.loss_(y_test, y_pred)\n",
    "\n",
    "plt.figure(figsize=(12, 6))\n",
    "plt.subplot(1, 2, 1)\n",
    "plt.title('Deviance')\n",
    "plt.plot(np.arange(params['n_estimators']) + 1, clf.train_score_, 'b-',\n",
    "         label='Training Set Deviance')\n",
    "plt.plot(np.arange(params['n_estimators']) + 1, test_score, 'r-',\n",
    "         label='Test Set Deviance')\n",
    "plt.legend(loc='upper right')\n",
    "plt.xlabel('Boosting Iterations')\n",
    "plt.ylabel('Deviance')\n",
    "\n",
    "###############################################################################\n",
    "# Plot feature importance\n",
    "feature_importance = clf.feature_importances_\n",
    "# make importances relative to max importance\n",
    "feature_importance = 100.0 * (feature_importance / feature_importance.max())\n",
    "sorted_idx = np.argsort(feature_importance)\n",
    "pos = np.arange(sorted_idx.shape[0]) + .5\n",
    "plt.subplot(1, 2, 2)\n",
    "plt.barh(pos, feature_importance[sorted_idx], align='center')\n",
    "plt.yticks(pos, feature_names[sorted_idx])\n",
    "plt.xlabel('Relative Importance')\n",
    "plt.title('Variable Importance')\n",
    "plt.show()"
   ]
  },
  {
   "cell_type": "code",
   "execution_count": null,
   "metadata": {
    "collapsed": false
   },
   "outputs": [],
   "source": [
    "\n",
    "\n",
    "\n",
    "\n",
    "from sklearn import ensemble\n",
    "from sklearn.utils import shuffle\n",
    "from sklearn.metrics import mean_squared_error\n",
    "import matplotlib.pyplot as plt\n",
    "\n",
    "###############################################################################\n",
    "y,X = dmatrices(\"log_volume ~ 0+  \" + independent_vars ,data,return_type='dataframe' )\n",
    "feature_names = X.columns\n",
    "X = sklearn.preprocessing.scale(X)\n",
    "y = sklearn.preprocessing.scale(y['log_volume'])\n",
    "offset = int(X.shape[0] * 0.9)\n",
    "X_train, y_train = X[:offset], y[:offset]\n",
    "X_test, y_test = X[offset:], y[offset:]\n",
    "\n",
    "###############################################################################\n",
    "# Fit regression model\n",
    "params = {'n_estimators': 1000, 'max_depth': 5, 'min_samples_split': 1,\n",
    "          'learning_rate': 0.001, 'loss': 'ls'}\n",
    "clf = ensemble.GradientBoostingRegressor(**params)\n",
    "\n",
    "clf.fit(X_train, y_train)\n",
    "mse = mean_squared_error(y_test, clf.predict(X_test))\n",
    "print(\"MSE: %.4f\" % mse)\n",
    "\n",
    "\n",
    "# this may take some minutes\n",
    "#gs_cv = GridSearchCV(ensemble.GradientBoostingRegressor, param_grid, n_jobs=4).fit(X_train, y_train)\n",
    "\n",
    "# best hyperparameter setting\n",
    "#print gs_cv.best_params_\n",
    "\n",
    "\n",
    "###############################################################################\n",
    "# Plot training deviance\n",
    "\n",
    "# compute test set deviance\n",
    "test_score = np.zeros((params['n_estimators'],), dtype=np.float64)\n",
    "\n",
    "for i, y_pred in enumerate(clf.staged_decision_function(X_test)):\n",
    "    test_score[i] = clf.loss_(y_test, y_pred)\n",
    "\n",
    "plt.figure(figsize=(12, 6))\n",
    "plt.subplot(1, 2, 1)\n",
    "plt.title('Deviance')\n",
    "plt.plot(np.arange(params['n_estimators']) + 1, clf.train_score_, 'b-',\n",
    "         label='Training Set Deviance')\n",
    "plt.plot(np.arange(params['n_estimators']) + 1, test_score, 'r-',\n",
    "         label='Test Set Deviance')\n",
    "plt.legend(loc='upper right')\n",
    "plt.xlabel('Boosting Iterations')\n",
    "plt.ylabel('Deviance')\n",
    "\n",
    "###############################################################################\n",
    "# Plot feature importance\n",
    "feature_importance = clf.feature_importances_\n",
    "# make importances relative to max importance\n",
    "feature_importance = 100.0 * (feature_importance / feature_importance.max())\n",
    "sorted_idx = np.argsort(feature_importance)\n",
    "pos = np.arange(sorted_idx.shape[0]) + .5\n",
    "plt.subplot(1, 2, 2)\n",
    "plt.barh(pos, feature_importance[sorted_idx], align='center')\n",
    "plt.yticks(pos, feature_names[sorted_idx])\n",
    "plt.xlabel('Relative Importance')\n",
    "plt.title('Variable Importance')\n",
    "plt.show()"
   ]
  },
  {
   "cell_type": "code",
   "execution_count": null,
   "metadata": {
    "collapsed": false
   },
   "outputs": [],
   "source": [
    "print(__doc__)\n",
    "\n",
    "import numpy as np\n",
    "import matplotlib.pyplot as plt\n",
    "\n",
    "from mpl_toolkits.mplot3d import Axes3D\n",
    "\n",
    "from sklearn.cross_validation import train_test_split\n",
    "from sklearn.ensemble import GradientBoostingRegressor\n",
    "from sklearn.ensemble.partial_dependence import plot_partial_dependence\n",
    "from sklearn.ensemble.partial_dependence import partial_dependence\n",
    "from sklearn.datasets.california_housing import fetch_california_housing\n",
    "\n",
    "\n",
    "data_norm =  joint_dataset(f)\n",
    "y,X = dmatrices(\"log_volume ~ user1_num_posts + user1_num_subjects + technical +  user1_closeness_centrality_unweighted + user1_clustering_coefficient\"  ,data_norm,return_type='dataframe' )\n",
    "names = X.columns\n",
    "X = sklearn.preprocessing.scale(X)\n",
    "y = sklearn.preprocessing.scale(y['log_volume'])\n",
    "offset = int(X.shape[0] * 0.8)\n",
    "X_train, y_train = X[:offset], y[:offset]\n",
    "X_test, y_test = X[offset:], y[offset:]\n",
    "\n",
    "# split 80/20 train-test\n",
    "\n",
    "print('_' * 80)\n",
    "print(\"Training GBRT...\")\n",
    "clf = GradientBoostingRegressor(n_estimators=10, max_depth=6,\n",
    "                                learning_rate=0.01, loss='ls',\n",
    "                                random_state=1)\n",
    "clf.fit(X_train, y_train)\n",
    "print(\"done.\")\n",
    "\n",
    "print('_' * 80)\n",
    "print('Convenience plot with ``partial_dependence_plots``')\n",
    "print\n",
    "\n",
    "features = [1, 2, 3, 4,5, (5, 4)]\n",
    "fig, axs = plot_partial_dependence(clf, X_train, features, feature_names=names,\n",
    "                                   n_jobs=3, grid_resolution=50)\n",
    "fig.suptitle('Partial dependence of severity on network features')\n",
    "plt.subplots_adjust(top=0.9)  # tight_layout causes overlap with suptitle\n",
    "\n",
    "print('_' * 80)\n",
    "print('Custom 3d plot via ``partial_dependence``')\n",
    "print\n",
    "fig = plt.figure()\n",
    "\n",
    "target_feature = (4, 5)\n",
    "pdp, (x_axis, y_axis) = partial_dependence(clf, target_feature,\n",
    "                                           X=X_train, grid_resolution=50)\n",
    "XX, YY = np.meshgrid(x_axis, y_axis)\n",
    "Z = pdp.T.reshape(XX.shape).T\n",
    "ax = Axes3D(fig)\n",
    "surf = ax.plot_surface(XX, YY, Z, rstride=1, cstride=1, cmap=plt.cm.BuPu)\n",
    "ax.set_xlabel(names[target_feature[0]])\n",
    "ax.set_ylabel(names[target_feature[1]])\n",
    "ax.set_zlabel('Partial dependence')\n",
    "#  pretty init view\n",
    "ax.view_init(elev=22, azim=-122)\n",
    "plt.colorbar(surf)\n",
    "plt.suptitle('Partial dependence of severity')\n",
    "plt.subplots_adjust(top=0.9)\n",
    "\n",
    "plt.show()"
   ]
  },
  {
   "cell_type": "code",
   "execution_count": null,
   "metadata": {
    "collapsed": false
   },
   "outputs": [],
   "source": [
    "sns.interactplot('user1_clustering_coefficient','user1_closeness_centrality_unweighted', 'log_severity', data=data)"
   ]
  },
  {
   "cell_type": "code",
   "execution_count": null,
   "metadata": {
    "collapsed": false
   },
   "outputs": [],
   "source": [
    "sns.interactplot('user1_clustering_coefficient','user1_closeness_centrality_unweighted', 'log_volume', data=data)"
   ]
  },
  {
   "cell_type": "code",
   "execution_count": null,
   "metadata": {
    "collapsed": false
   },
   "outputs": [],
   "source": [
    "sns.jointplot(x=\"log_severity\", y=\"log_volume\", data=data);"
   ]
  },
  {
   "cell_type": "code",
   "execution_count": null,
   "metadata": {
    "collapsed": false
   },
   "outputs": [],
   "source": [
    "sns.pairplot(data[['log_severity','log_volume']])"
   ]
  },
  {
   "cell_type": "code",
   "execution_count": null,
   "metadata": {
    "collapsed": false,
    "scrolled": true
   },
   "outputs": [],
   "source": [
    "sns.pairplot(tight_dataset)"
   ]
  },
  {
   "cell_type": "code",
   "execution_count": null,
   "metadata": {
    "collapsed": false
   },
   "outputs": [],
   "source": [
    "factor(data.user1_satoshi_distance)"
   ]
  },
  {
   "cell_type": "code",
   "execution_count": null,
   "metadata": {
    "collapsed": false
   },
   "outputs": [],
   "source": [
    "data['user1_num_mentions'].describe()"
   ]
  },
  {
   "cell_type": "code",
   "execution_count": null,
   "metadata": {
    "collapsed": false
   },
   "outputs": [],
   "source": [
    "\"np.log(total_volume) ~ \" + \" + \".join(independent_vars)"
   ]
  },
  {
   "cell_type": "code",
   "execution_count": null,
   "metadata": {
    "collapsed": false
   },
   "outputs": [],
   "source": [
    "from pandas.tools.plotting import scatter_matrix\n",
    "\n",
    "scatter_matrix(data[[\n",
    "       u'user1_clustering_coefficient',\n",
    "       u'user1_closeness_centrality_weighted',\n",
    "       u'user1_closeness_centrality_incoming_weighted',\n",
    "       u'user1_closeness_centrality_outgoing_weighted']], alpha=0.2, figsize=(15, 15), diagonal='kde')\n",
    "\n"
   ]
  },
  {
   "cell_type": "code",
   "execution_count": null,
   "metadata": {
    "collapsed": false
   },
   "outputs": [],
   "source": [
    "pd.read_csv(\n",
    "    \"directed_unlimited/unmodified_symbol_and_name_in_subject_with_[ANN]_first_thread_post_introducers_metrics.csv\")"
   ]
  },
  {
   "cell_type": "code",
   "execution_count": null,
   "metadata": {
    "collapsed": false,
    "scrolled": false
   },
   "outputs": [],
   "source": [
    "print ols(formula=\"log_volume ~ user1_closeness_centrality_weighted+ user1_satoshi_distance + user1_satoshi_distance_inf\" ,data=data).fit(cov_type='HC3').summary()\n",
    "print ols(formula=\"log_severity ~ user1_closeness_centrality_weighted + user1_satoshi_distance + user1_satoshi_distance_inf\" ,data=data).fit(cov_type='HC3').summary() \n",
    "print ols(formula=\"log_severity ~ user1_closeness_centrality_weighted*type\" ,data=data).fit(cov_type='HC3').summary() \n",
    "\n",
    "sns.lmplot('user1_closeness_centrality_weighted','log_volume',data, hue='type')\n",
    "sns.lmplot('user1_closeness_centrality_weighted','log_severity',data, hue='type')"
   ]
  },
  {
   "cell_type": "code",
   "execution_count": null,
   "metadata": {
    "collapsed": false
   },
   "outputs": [],
   "source": [
    "data.columns"
   ]
  },
  {
   "cell_type": "code",
   "execution_count": null,
   "metadata": {
    "collapsed": true
   },
   "outputs": [],
   "source": [
    "from statsmodels.sandbox import gam"
   ]
  },
  {
   "cell_type": "code",
   "execution_count": null,
   "metadata": {
    "collapsed": false
   },
   "outputs": [],
   "source": []
  },
  {
   "cell_type": "code",
   "execution_count": null,
   "metadata": {
    "collapsed": false
   },
   "outputs": [],
   "source": [
    "\n",
    "example = 1  # 1,2 or 3\n",
    "\n",
    "import numpy as np\n",
    "import numpy.random as R\n",
    "import matplotlib.pyplot as plt\n",
    "\n",
    "from statsmodels.sandbox.gam import AdditiveModel\n",
    "from statsmodels.sandbox.gam import Model as GAM #?\n",
    "from statsmodels.genmod.families import family\n",
    "from statsmodels.genmod.generalized_linear_model import GLM\n",
    "\n",
    "standardize = lambda x: (x - x.mean()) / x.std()\n",
    "demean = lambda x: (x - x.mean())\n",
    "target = 'log_volume'\n",
    "y,X = dmatrices(target +\" ~ \" + \" + \".join(independent_vars) ,data,return_type='dataframe' )\n",
    "X = sklearn.preprocessing.scale(X)\n",
    "y = sklearn.preprocessing.scale(y[target])\n",
    "g= gam.AdditiveModel(X)\n",
    "g.fit(y)\n",
    "\n",
    "\n",
    "if example == 1:\n",
    "    print(\"normal\")\n",
    "    m = AdditiveModel(X)\n",
    "    m.fit(y)\n",
    "    x = np.linspace(-2,2,50)\n",
    "\n",
    "    print(m)\n",
    "\n",
    "    y_pred = m.results.predict(X)\n",
    "    plt.figure()\n",
    "    plt.plot(y, '.')\n",
    "    plt.plot(y_pred, 'r-', label='AdditiveModel')\n",
    "    plt.legend()\n",
    "    plt.title('gam.AdditiveModel')\n",
    "\n",
    "import scipy.stats, time\n",
    "\n",
    "if example == 2:\n",
    "    print(\"binomial\")\n",
    "    f = family.Binomial()\n",
    "    b = np.asarray([scipy.stats.bernoulli.rvs(p) for p in f.link.inverse(y)])\n",
    "    b.shape = y.shape\n",
    "    m = GAM(b, d, family=f)\n",
    "    toc = time.time()\n",
    "    m.fit(b)\n",
    "    tic = time.time()\n",
    "    print(tic-toc)\n",
    "\n",
    "\n",
    "if example == 3:\n",
    "    print(\"Poisson\")\n",
    "    f = family.Poisson()\n",
    "    y = y/y.max() * 3\n",
    "    yp = f.link.inverse(y)\n",
    "    p = np.asarray([scipy.stats.poisson.rvs(p) for p in f.link.inverse(y)], float)\n",
    "    p.shape = y.shape\n",
    "    m = GAM(p, d, family=f)\n",
    "    toc = time.time()\n",
    "    m.fit(p)\n",
    "    tic = time.time()\n",
    "    print(tic-toc)\n",
    "\n",
    "\n",
    "plt.figure()\n",
    "plt.plot(X, standardize(m.smoothers[0](X)), 'r')\n",
    "plt.plot(X, standardize(f1(X)), linewidth=2)\n",
    "plt.figure()\n",
    "#plt.plot(x2, standardize(m.smoothers[1](x2)), 'r')\n",
    "#plt.plot(x2, standardize(f2(x2)), linewidth=2)\n"
   ]
  },
  {
   "cell_type": "code",
   "execution_count": null,
   "metadata": {
    "collapsed": false
   },
   "outputs": [],
   "source": [
    "[1,2]+[1,5,34,5]"
   ]
  },
  {
   "cell_type": "code",
   "execution_count": null,
   "metadata": {
    "collapsed": false
   },
   "outputs": [],
   "source": [
    "data.columns"
   ]
  },
  {
   "cell_type": "code",
   "execution_count": null,
   "metadata": {
    "collapsed": false
   },
   "outputs": [],
   "source": [
    "lasso_fit = lasso_model.fit(X,y)"
   ]
  },
  {
   "cell_type": "code",
   "execution_count": null,
   "metadata": {
    "collapsed": false
   },
   "outputs": [],
   "source": []
  },
  {
   "cell_type": "code",
   "execution_count": null,
   "metadata": {
    "collapsed": false
   },
   "outputs": [],
   "source": [
    "network_data = pd.read_csv( 'data/directed_unlimited/withBetweeenness3OR.csv' , index_col='coin')"
   ]
  },
  {
   "cell_type": "code",
   "execution_count": null,
   "metadata": {
    "collapsed": false
   },
   "outputs": [],
   "source": [
    "len(network_data)"
   ]
  },
  {
   "cell_type": "code",
   "execution_count": 18,
   "metadata": {
    "collapsed": false
   },
   "outputs": [
    {
     "data": {
      "text/plain": [
       "376"
      ]
     },
     "execution_count": 18,
     "metadata": {},
     "output_type": "execute_result"
    }
   ],
   "source": [
    "joinedAND = pd.read_csv( l[0], # AND \n",
    "    index_col='coin').join(pd.read_csv(\n",
    "        'data/nontrivial.csv',index_col='coin')).join(pd.read_csv(\n",
    "        'data/prices.csv',index_col='symbol',skipinitialspace=True))\n",
    "len(joinedAND)"
   ]
  },
  {
   "cell_type": "code",
   "execution_count": 21,
   "metadata": {
    "collapsed": false
   },
   "outputs": [
    {
     "data": {
      "text/plain": [
       "553"
      ]
     },
     "execution_count": 21,
     "metadata": {},
     "output_type": "execute_result"
    }
   ],
   "source": [
    "joinedOR = pd.read_csv( l[1], # OR \n",
    "    index_col='coin').join(pd.read_csv(\n",
    "        'data/nontrivial.csv',index_col='coin')).join(pd.read_csv(\n",
    "        'data/prices.csv',index_col='symbol',skipinitialspace=True))\n",
    "len(joinedOR)"
   ]
  },
  {
   "cell_type": "markdown",
   "metadata": {},
   "source": [
    "#hasta aca todo bien, la cantidad correcta de lineas en cada una.\n",
    "\n",
    "\n",
    "\n",
    "degree_vars = ['user1_degree_total',\n",
    "           'user1_degree_incoming', 'user1_degree_outgoing',]\n",
    "\n",
    "graph_vars=       ['user1_clustering_coefficient',\n",
    "                    'user1_closeness_centrality_unweighted']\n",
    "                    \n",
    "esos dos son el naive que podes ver en las primer columna de las tablas de resultado arriba y todavia tiene la data ya que el N corresponde."
   ]
  },
  {
   "cell_type": "code",
   "execution_count": 26,
   "metadata": {
    "collapsed": false
   },
   "outputs": [
    {
     "data": {
      "text/plain": [
       "0"
      ]
     },
     "execution_count": 26,
     "metadata": {},
     "output_type": "execute_result"
    }
   ],
   "source": [
    "sum(np.isnan(joinedAND.user1_degree_total))"
   ]
  },
  {
   "cell_type": "code",
   "execution_count": 25,
   "metadata": {
    "collapsed": false
   },
   "outputs": [
    {
     "data": {
      "text/plain": [
       "181"
      ]
     },
     "execution_count": 25,
     "metadata": {},
     "output_type": "execute_result"
    }
   ],
   "source": [
    "sum(np.isnan(joinedAND.nontrivial))"
   ]
  },
  {
   "cell_type": "code",
   "execution_count": 27,
   "metadata": {
    "collapsed": false
   },
   "outputs": [
    {
     "data": {
      "text/plain": [
       "0"
      ]
     },
     "execution_count": 27,
     "metadata": {},
     "output_type": "execute_result"
    }
   ],
   "source": [
    "sum(np.isnan(joinedAND.Bittrex))"
   ]
  },
  {
   "cell_type": "code",
   "execution_count": null,
   "metadata": {
    "collapsed": false
   },
   "outputs": [],
   "source": []
  },
  {
   "cell_type": "code",
   "execution_count": null,
   "metadata": {
    "collapsed": true
   },
   "outputs": [],
   "source": []
  }
 ],
 "metadata": {
  "kernelspec": {
   "display_name": "Python 2",
   "language": "python",
   "name": "python2"
  },
  "language_info": {
   "codemirror_mode": {
    "name": "ipython",
    "version": 2
   },
   "file_extension": ".py",
   "mimetype": "text/x-python",
   "name": "python",
   "nbconvert_exporter": "python",
   "pygments_lexer": "ipython2",
   "version": "2.7.10"
  }
 },
 "nbformat": 4,
 "nbformat_minor": 0
}
